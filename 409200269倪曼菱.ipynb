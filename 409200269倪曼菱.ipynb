{
 "cells": [
  {
   "cell_type": "code",
   "execution_count": 7,
   "id": "1d1334b7-0525-4241-8add-d4e136cf493e",
   "metadata": {},
   "outputs": [],
   "source": [
    "num1=0o11"
   ]
  },
  {
   "cell_type": "code",
   "execution_count": 8,
   "id": "ce33b528-35ef-4dd6-a94c-ec5d5c03a962",
   "metadata": {},
   "outputs": [],
   "source": [
    "num2=int(num1)"
   ]
  },
  {
   "cell_type": "code",
   "execution_count": 16,
   "id": "59c0f7ff-f814-4aac-bc2e-9ee6f897dee3",
   "metadata": {},
   "outputs": [],
   "source": [
    "x=num2*3"
   ]
  },
  {
   "cell_type": "code",
   "execution_count": 17,
   "id": "1e88bc5a-c467-4fcc-a205-6c460a45c5cb",
   "metadata": {},
   "outputs": [
    {
     "name": "stdout",
     "output_type": "stream",
     "text": [
      "27\n"
     ]
    }
   ],
   "source": [
    "print(x)"
   ]
  },
  {
   "cell_type": "code",
   "execution_count": 12,
   "id": "242cbcd3-d925-4587-924f-69f155ae060c",
   "metadata": {},
   "outputs": [],
   "source": [
    "num3=0xAA\n",
    "num4=0xBB\n",
    "num5=0xCC"
   ]
  },
  {
   "cell_type": "code",
   "execution_count": 18,
   "id": "e7cd8589-94ca-45d9-a890-f916bef3bde8",
   "metadata": {},
   "outputs": [],
   "source": [
    "y=int(num3)\n",
    "z=int(num4)\n",
    "w=int(num5)"
   ]
  },
  {
   "cell_type": "code",
   "execution_count": 19,
   "id": "5117de3b-fbcc-435f-b567-2c1f783542c6",
   "metadata": {},
   "outputs": [],
   "source": [
    "a=y+z+w"
   ]
  },
  {
   "cell_type": "code",
   "execution_count": 20,
   "id": "58ad022b-7821-4693-ad00-8f3c46b85777",
   "metadata": {},
   "outputs": [
    {
     "name": "stdout",
     "output_type": "stream",
     "text": [
      "561\n"
     ]
    }
   ],
   "source": [
    "print(a)"
   ]
  },
  {
   "cell_type": "code",
   "execution_count": 21,
   "id": "bb292d9a-fffe-4dd4-9fb5-52d0328f9970",
   "metadata": {},
   "outputs": [
    {
     "name": "stdout",
     "output_type": "stream",
     "text": [
      "Requirement already satisfied: yfinance in c:\\users\\fm910\\anaconda3\\lib\\site-packages (0.2.37)\n",
      "Requirement already satisfied: pandas>=1.3.0 in c:\\users\\fm910\\anaconda3\\lib\\site-packages (from yfinance) (2.1.4)\n",
      "Requirement already satisfied: numpy>=1.16.5 in c:\\users\\fm910\\anaconda3\\lib\\site-packages (from yfinance) (1.26.4)\n",
      "Requirement already satisfied: requests>=2.31 in c:\\users\\fm910\\anaconda3\\lib\\site-packages (from yfinance) (2.31.0)\n",
      "Requirement already satisfied: multitasking>=0.0.7 in c:\\users\\fm910\\anaconda3\\lib\\site-packages (from yfinance) (0.0.11)\n",
      "Requirement already satisfied: lxml>=4.9.1 in c:\\users\\fm910\\anaconda3\\lib\\site-packages (from yfinance) (4.9.3)\n",
      "Requirement already satisfied: appdirs>=1.4.4 in c:\\users\\fm910\\anaconda3\\lib\\site-packages (from yfinance) (1.4.4)\n",
      "Requirement already satisfied: pytz>=2022.5 in c:\\users\\fm910\\anaconda3\\lib\\site-packages (from yfinance) (2023.3.post1)\n",
      "Requirement already satisfied: frozendict>=2.3.4 in c:\\users\\fm910\\anaconda3\\lib\\site-packages (from yfinance) (2.4.1)\n",
      "Requirement already satisfied: peewee>=3.16.2 in c:\\users\\fm910\\anaconda3\\lib\\site-packages (from yfinance) (3.17.1)\n",
      "Requirement already satisfied: beautifulsoup4>=4.11.1 in c:\\users\\fm910\\anaconda3\\lib\\site-packages (from yfinance) (4.12.2)\n",
      "Requirement already satisfied: html5lib>=1.1 in c:\\users\\fm910\\anaconda3\\lib\\site-packages (from yfinance) (1.1)\n",
      "Requirement already satisfied: soupsieve>1.2 in c:\\users\\fm910\\anaconda3\\lib\\site-packages (from beautifulsoup4>=4.11.1->yfinance) (2.5)\n",
      "Requirement already satisfied: six>=1.9 in c:\\users\\fm910\\anaconda3\\lib\\site-packages (from html5lib>=1.1->yfinance) (1.16.0)\n",
      "Requirement already satisfied: webencodings in c:\\users\\fm910\\anaconda3\\lib\\site-packages (from html5lib>=1.1->yfinance) (0.5.1)\n",
      "Requirement already satisfied: python-dateutil>=2.8.2 in c:\\users\\fm910\\anaconda3\\lib\\site-packages (from pandas>=1.3.0->yfinance) (2.8.2)\n",
      "Requirement already satisfied: tzdata>=2022.1 in c:\\users\\fm910\\anaconda3\\lib\\site-packages (from pandas>=1.3.0->yfinance) (2023.3)\n",
      "Requirement already satisfied: charset-normalizer<4,>=2 in c:\\users\\fm910\\anaconda3\\lib\\site-packages (from requests>=2.31->yfinance) (2.0.4)\n",
      "Requirement already satisfied: idna<4,>=2.5 in c:\\users\\fm910\\anaconda3\\lib\\site-packages (from requests>=2.31->yfinance) (3.4)\n",
      "Requirement already satisfied: urllib3<3,>=1.21.1 in c:\\users\\fm910\\anaconda3\\lib\\site-packages (from requests>=2.31->yfinance) (2.0.7)\n",
      "Requirement already satisfied: certifi>=2017.4.17 in c:\\users\\fm910\\anaconda3\\lib\\site-packages (from requests>=2.31->yfinance) (2024.2.2)\n"
     ]
    }
   ],
   "source": [
    "!pip install yfinance"
   ]
  },
  {
   "cell_type": "code",
   "execution_count": 26,
   "id": "7ee783ec-46fc-4fcc-9950-8541bb54bea4",
   "metadata": {},
   "outputs": [
    {
     "name": "stderr",
     "output_type": "stream",
     "text": [
      "[*********************100%%**********************]  1 of 1 completed\n"
     ]
    }
   ],
   "source": [
    "import yfinance as yf\n",
    "df = yf.download(\"2317.TW\",\"2020-01-01\")"
   ]
  },
  {
   "cell_type": "code",
   "execution_count": 27,
   "id": "f43576c1-a126-495d-a277-f25fce1387e2",
   "metadata": {},
   "outputs": [
    {
     "name": "stdout",
     "output_type": "stream",
     "text": [
      "                  Open        High         Low       Close   Adj Close  \\\n",
      "Date                                                                     \n",
      "2020-01-02   91.000000   91.500000   90.300003   90.800003   75.553650   \n",
      "2020-01-03   91.400002   92.199997   90.800003   91.599998   76.219322   \n",
      "2020-01-06   91.099998   91.099998   90.099998   90.500000   75.304024   \n",
      "2020-01-07   90.500000   91.000000   88.300003   89.099998   74.139099   \n",
      "2020-01-08   87.900002   88.099998   86.500000   86.500000   71.975662   \n",
      "...                ...         ...         ...         ...         ...   \n",
      "2024-04-15  148.500000  150.000000  144.500000  146.000000  146.000000   \n",
      "2024-04-16  142.500000  143.000000  137.500000  141.000000  141.000000   \n",
      "2024-04-17  143.000000  147.500000  141.000000  146.500000  146.500000   \n",
      "2024-04-18  144.500000  148.500000  144.500000  148.000000  148.000000   \n",
      "2024-04-19  146.000000  147.500000  140.000000  143.000000  143.000000   \n",
      "\n",
      "               Volume  \n",
      "Date                   \n",
      "2020-01-02   20758722  \n",
      "2020-01-03   37936877  \n",
      "2020-01-06   26352522  \n",
      "2020-01-07   42728140  \n",
      "2020-01-08   56101121  \n",
      "...               ...  \n",
      "2024-04-15  111843413  \n",
      "2024-04-16  175513013  \n",
      "2024-04-17  105075694  \n",
      "2024-04-18   74990020  \n",
      "2024-04-19  133600907  \n",
      "\n",
      "[1042 rows x 6 columns]\n"
     ]
    }
   ],
   "source": [
    "print(df)"
   ]
  },
  {
   "cell_type": "code",
   "execution_count": 28,
   "id": "990a5652-22ea-4e49-8cd9-32fcb269cbbc",
   "metadata": {},
   "outputs": [
    {
     "name": "stderr",
     "output_type": "stream",
     "text": [
      "[*********************100%%**********************]  1 of 1 completed\n"
     ]
    }
   ],
   "source": [
    "import yfinance as yf\n",
    "df = yf.download(\"2353.TW\",\"2020-01-01\")"
   ]
  },
  {
   "cell_type": "code",
   "execution_count": 29,
   "id": "5a50a11e-e208-4381-9100-05c974e095f2",
   "metadata": {},
   "outputs": [
    {
     "name": "stdout",
     "output_type": "stream",
     "text": [
      "                 Open       High        Low      Close  Adj Close    Volume\n",
      "Date                                                                       \n",
      "2020-01-02  17.900000  17.950001  17.799999  17.799999  13.416278   5383237\n",
      "2020-01-03  17.900000  18.000000  17.750000  17.900000  13.491649   7256023\n",
      "2020-01-06  17.799999  17.850000  17.600000  17.650000  13.303220   7615770\n",
      "2020-01-07  17.650000  17.799999  17.549999  17.549999  13.227847   5708642\n",
      "2020-01-08  17.500000  17.549999  17.400000  17.450001  13.152476   7981411\n",
      "...               ...        ...        ...        ...        ...       ...\n",
      "2024-04-15  47.750000  48.299999  47.200001  47.549999  47.549999  53783292\n",
      "2024-04-16  47.200001  47.500000  45.000000  45.500000  45.500000  62705501\n",
      "2024-04-17  45.650002  45.900002  45.049999  45.049999  45.049999  42109500\n",
      "2024-04-18  45.000000  45.599998  44.950001  45.000000  45.000000  22285512\n",
      "2024-04-19  44.750000  44.750000  42.349998  43.799999  43.799999  58586902\n",
      "\n",
      "[1042 rows x 6 columns]\n"
     ]
    }
   ],
   "source": [
    "print(df)"
   ]
  },
  {
   "cell_type": "code",
   "execution_count": 34,
   "id": "4425caae-8be8-4c20-9dc6-103b25468e71",
   "metadata": {},
   "outputs": [
    {
     "name": "stdout",
     "output_type": "stream",
     "text": [
      "Requirement already satisfied: ucimlrepo in c:\\users\\fm910\\anaconda3\\lib\\site-packages (0.0.6)\n"
     ]
    }
   ],
   "source": [
    "!pip install ucimlrepo"
   ]
  },
  {
   "cell_type": "code",
   "execution_count": 35,
   "id": "3c4db1dc-b0fa-47c1-aa61-8c17bda11de9",
   "metadata": {},
   "outputs": [],
   "source": [
    "from ucimlrepo import fetch_ucirepo"
   ]
  },
  {
   "cell_type": "code",
   "execution_count": 38,
   "id": "7ea1a74c-3f63-42bd-b79e-6fe8336c9979",
   "metadata": {},
   "outputs": [],
   "source": [
    "iris_data = fetch_ucirepo(\"iris\")"
   ]
  },
  {
   "cell_type": "code",
   "execution_count": 39,
   "id": "b520d1f4-0afc-4311-b7c4-2588fea8acf8",
   "metadata": {},
   "outputs": [
    {
     "name": "stdout",
     "output_type": "stream",
     "text": [
      "{'data': {'ids': None, 'features':      sepal length  sepal width  petal length  petal width\n",
      "0             5.1          3.5           1.4          0.2\n",
      "1             4.9          3.0           1.4          0.2\n",
      "2             4.7          3.2           1.3          0.2\n",
      "3             4.6          3.1           1.5          0.2\n",
      "4             5.0          3.6           1.4          0.2\n",
      "..            ...          ...           ...          ...\n",
      "145           6.7          3.0           5.2          2.3\n",
      "146           6.3          2.5           5.0          1.9\n",
      "147           6.5          3.0           5.2          2.0\n",
      "148           6.2          3.4           5.4          2.3\n",
      "149           5.9          3.0           5.1          1.8\n",
      "\n",
      "[150 rows x 4 columns], 'targets':               class\n",
      "0       Iris-setosa\n",
      "1       Iris-setosa\n",
      "2       Iris-setosa\n",
      "3       Iris-setosa\n",
      "4       Iris-setosa\n",
      "..              ...\n",
      "145  Iris-virginica\n",
      "146  Iris-virginica\n",
      "147  Iris-virginica\n",
      "148  Iris-virginica\n",
      "149  Iris-virginica\n",
      "\n",
      "[150 rows x 1 columns], 'original':      sepal length  sepal width  petal length  petal width           class\n",
      "0             5.1          3.5           1.4          0.2     Iris-setosa\n",
      "1             4.9          3.0           1.4          0.2     Iris-setosa\n",
      "2             4.7          3.2           1.3          0.2     Iris-setosa\n",
      "3             4.6          3.1           1.5          0.2     Iris-setosa\n",
      "4             5.0          3.6           1.4          0.2     Iris-setosa\n",
      "..            ...          ...           ...          ...             ...\n",
      "145           6.7          3.0           5.2          2.3  Iris-virginica\n",
      "146           6.3          2.5           5.0          1.9  Iris-virginica\n",
      "147           6.5          3.0           5.2          2.0  Iris-virginica\n",
      "148           6.2          3.4           5.4          2.3  Iris-virginica\n",
      "149           5.9          3.0           5.1          1.8  Iris-virginica\n",
      "\n",
      "[150 rows x 5 columns], 'headers': Index(['sepal length', 'sepal width', 'petal length', 'petal width', 'class'], dtype='object')}, 'metadata': {'uci_id': 53, 'name': 'Iris', 'repository_url': 'https://archive.ics.uci.edu/dataset/53/iris', 'data_url': 'https://archive.ics.uci.edu/static/public/53/data.csv', 'abstract': 'A small classic dataset from Fisher, 1936. One of the earliest known datasets used for evaluating classification methods.\\n', 'area': 'Biology', 'tasks': ['Classification'], 'characteristics': ['Tabular'], 'num_instances': 150, 'num_features': 4, 'feature_types': ['Real'], 'demographics': [], 'target_col': ['class'], 'index_col': None, 'has_missing_values': 'no', 'missing_values_symbol': None, 'year_of_dataset_creation': 1936, 'last_updated': 'Tue Sep 12 2023', 'dataset_doi': '10.24432/C56C76', 'creators': ['R. A. Fisher'], 'intro_paper': {'title': 'The Iris data set: In search of the source of virginica', 'authors': 'A. Unwin, K. Kleinman', 'published_in': 'Significance, 2021', 'year': 2021, 'url': 'https://www.semanticscholar.org/paper/4599862ea877863669a6a8e63a3c707a787d5d7e', 'doi': '1740-9713.01589'}, 'additional_info': {'summary': 'This is one of the earliest datasets used in the literature on classification methods and widely used in statistics and machine learning.  The data set contains 3 classes of 50 instances each, where each class refers to a type of iris plant.  One class is linearly separable from the other 2; the latter are not linearly separable from each other.\\n\\nPredicted attribute: class of iris plant.\\n\\nThis is an exceedingly simple domain.\\n\\nThis data differs from the data presented in Fishers article (identified by Steve Chadwick,  spchadwick@espeedaz.net ).  The 35th sample should be: 4.9,3.1,1.5,0.2,\"Iris-setosa\" where the error is in the fourth feature. The 38th sample: 4.9,3.6,1.4,0.1,\"Iris-setosa\" where the errors are in the second and third features.  ', 'purpose': 'N/A', 'funded_by': None, 'instances_represent': 'Each instance is a plant', 'recommended_data_splits': None, 'sensitive_data': None, 'preprocessing_description': None, 'variable_info': None, 'citation': None}}, 'variables':            name     role         type demographic  \\\n",
      "0  sepal length  Feature   Continuous        None   \n",
      "1   sepal width  Feature   Continuous        None   \n",
      "2  petal length  Feature   Continuous        None   \n",
      "3   petal width  Feature   Continuous        None   \n",
      "4         class   Target  Categorical        None   \n",
      "\n",
      "                                         description units missing_values  \n",
      "0                                               None    cm             no  \n",
      "1                                               None    cm             no  \n",
      "2                                               None    cm             no  \n",
      "3                                               None    cm             no  \n",
      "4  class of iris plant: Iris Setosa, Iris Versico...  None             no  }\n"
     ]
    }
   ],
   "source": [
    "print(iris_data)"
   ]
  }
 ],
 "metadata": {
  "kernelspec": {
   "display_name": "Python 3 (ipykernel)",
   "language": "python",
   "name": "python3"
  },
  "language_info": {
   "codemirror_mode": {
    "name": "ipython",
    "version": 3
   },
   "file_extension": ".py",
   "mimetype": "text/x-python",
   "name": "python",
   "nbconvert_exporter": "python",
   "pygments_lexer": "ipython3",
   "version": "3.11.7"
  }
 },
 "nbformat": 4,
 "nbformat_minor": 5
}
